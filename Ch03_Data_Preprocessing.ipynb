{
 "cells": [
  {
   "cell_type": "markdown",
   "metadata": {},
   "source": [
    "# 3 Data Pre-processing\n",
    "\n",
    "\n",
    "Data pre-processing techniques refer to addition, deletion, or transformation of training set data. Data prepration can make or break a model's preditive ability. The need for data pre-processing is determined by the type of model being used. Some models are less or more sensitive to data. The tree based models are typically insensitive to data and models like linear regressions are not.\n",
    "\n",
    "The pre-processing techniques discussed in this chapter are focus on **Unsupervised** data models (e.g. PCA) that do not consider the outcome variable in the pre-processing. The **supervised**  methods that do take them into consideration (e.g. partial least squares) the outcome variables will be discussed in later chapters.\n",
    "\n",
    "*The dataset used to illustrate pre-processing examples is discussed next.*\n"
   ]
  },
  {
   "cell_type": "markdown",
   "metadata": {},
   "source": [
    "## 3.1 Case Study: Cell Segmentation in High-Content Screening\n",
    "\n",
    "To measure the effects of medicines or diseases on the size, shape, development status, and number of cells in living organizm or plant, experts, examines the target serum or tissue under miscroscope and maually assess the desired characteristis. This processes is tedious and a better approach is to use high-contrast screening. \n",
    "\n",
    "The high-contrast screening works by measuring the light reflected from a stain that binds to specific characteristic of cell such as cell nuclei. However, this automated method often results in misleading measurements. One such problem is the error in automatic detection of cell boundaries. The researchers assembled a dataset consisting of **2019** cells, where **1300** were judged to be poorly segmented (PS) and **719** were all well segmented (WS). The training/test split of roughly 50% data was used. \n",
    "\n",
    "*Lets explore the dataset in little more detail.*"
   ]
  },
  {
   "cell_type": "code",
   "execution_count": 25,
   "metadata": {},
   "outputs": [
    {
     "data": {
      "text/plain": [
       "<matplotlib.figure.Figure at 0x7fcafeb71c88>"
      ]
     },
     "metadata": {},
     "output_type": "display_data"
    }
   ],
   "source": [
    "import pandas as pd\n",
    "import numpy as np\n",
    "import matplotlib.pyplot as plt\n",
    "from scipy.stats import boxcox\n",
    "import glob\n",
    "\n",
    "%matplotlib inline  \n",
    "\n",
    "plt.rcParams[\"patch.force_edgecolor\"] = True\n",
    "plt.rcParams['figure.figsize'] = 10, 7.5\n",
    "plt.rcParams['axes.grid'] = True\n",
    "\n",
    "plt.gray()"
   ]
  },
  {
   "cell_type": "code",
   "execution_count": 2,
   "metadata": {},
   "outputs": [],
   "source": [
    "datasets = glob.glob('./datasets/segmentationData/*.csv')"
   ]
  },
  {
   "cell_type": "code",
   "execution_count": 3,
   "metadata": {},
   "outputs": [
    {
     "data": {
      "text/plain": [
       "['./datasets/segmentationData/segmentationData.csv']"
      ]
     },
     "execution_count": 3,
     "metadata": {},
     "output_type": "execute_result"
    }
   ],
   "source": [
    "datasets"
   ]
  },
  {
   "cell_type": "code",
   "execution_count": 4,
   "metadata": {},
   "outputs": [
    {
     "data": {
      "text/html": [
       "<div>\n",
       "<style>\n",
       "    .dataframe thead tr:only-child th {\n",
       "        text-align: right;\n",
       "    }\n",
       "\n",
       "    .dataframe thead th {\n",
       "        text-align: left;\n",
       "    }\n",
       "\n",
       "    .dataframe tbody tr th {\n",
       "        vertical-align: top;\n",
       "    }\n",
       "</style>\n",
       "<table border=\"1\" class=\"dataframe\">\n",
       "  <thead>\n",
       "    <tr style=\"text-align: right;\">\n",
       "      <th></th>\n",
       "      <th>Unnamed: 0</th>\n",
       "      <th>Cell</th>\n",
       "      <th>Case</th>\n",
       "      <th>Class</th>\n",
       "      <th>AngleCh1</th>\n",
       "      <th>AreaCh1</th>\n",
       "      <th>AvgIntenCh1</th>\n",
       "      <th>AvgIntenCh2</th>\n",
       "      <th>AvgIntenCh3</th>\n",
       "      <th>AvgIntenCh4</th>\n",
       "      <th>...</th>\n",
       "      <th>TotalIntenCh1</th>\n",
       "      <th>TotalIntenCh2</th>\n",
       "      <th>TotalIntenCh3</th>\n",
       "      <th>TotalIntenCh4</th>\n",
       "      <th>VarIntenCh1</th>\n",
       "      <th>VarIntenCh3</th>\n",
       "      <th>VarIntenCh4</th>\n",
       "      <th>WidthCh1</th>\n",
       "      <th>XCentroid</th>\n",
       "      <th>YCentroid</th>\n",
       "    </tr>\n",
       "  </thead>\n",
       "  <tbody>\n",
       "    <tr>\n",
       "      <th>0</th>\n",
       "      <td>1</td>\n",
       "      <td>207827637</td>\n",
       "      <td>Test</td>\n",
       "      <td>PS</td>\n",
       "      <td>143.247705</td>\n",
       "      <td>185</td>\n",
       "      <td>15.711864</td>\n",
       "      <td>4.954802</td>\n",
       "      <td>9.548023</td>\n",
       "      <td>2.214689</td>\n",
       "      <td>...</td>\n",
       "      <td>2781</td>\n",
       "      <td>701.0</td>\n",
       "      <td>1690</td>\n",
       "      <td>392</td>\n",
       "      <td>12.474676</td>\n",
       "      <td>7.609035</td>\n",
       "      <td>2.714100</td>\n",
       "      <td>10.642974</td>\n",
       "      <td>42</td>\n",
       "      <td>14</td>\n",
       "    </tr>\n",
       "    <tr>\n",
       "      <th>1</th>\n",
       "      <td>2</td>\n",
       "      <td>207932307</td>\n",
       "      <td>Train</td>\n",
       "      <td>PS</td>\n",
       "      <td>133.752037</td>\n",
       "      <td>819</td>\n",
       "      <td>31.923274</td>\n",
       "      <td>206.878517</td>\n",
       "      <td>69.916880</td>\n",
       "      <td>164.153453</td>\n",
       "      <td>...</td>\n",
       "      <td>24964</td>\n",
       "      <td>160998.0</td>\n",
       "      <td>54675</td>\n",
       "      <td>128368</td>\n",
       "      <td>18.809225</td>\n",
       "      <td>56.715352</td>\n",
       "      <td>118.388139</td>\n",
       "      <td>32.161261</td>\n",
       "      <td>215</td>\n",
       "      <td>347</td>\n",
       "    </tr>\n",
       "    <tr>\n",
       "      <th>2</th>\n",
       "      <td>3</td>\n",
       "      <td>207932463</td>\n",
       "      <td>Train</td>\n",
       "      <td>WS</td>\n",
       "      <td>106.646387</td>\n",
       "      <td>431</td>\n",
       "      <td>28.038835</td>\n",
       "      <td>116.315534</td>\n",
       "      <td>63.941748</td>\n",
       "      <td>106.696602</td>\n",
       "      <td>...</td>\n",
       "      <td>11552</td>\n",
       "      <td>47511.0</td>\n",
       "      <td>26344</td>\n",
       "      <td>43959</td>\n",
       "      <td>17.295643</td>\n",
       "      <td>37.671053</td>\n",
       "      <td>49.470524</td>\n",
       "      <td>21.185525</td>\n",
       "      <td>371</td>\n",
       "      <td>252</td>\n",
       "    </tr>\n",
       "    <tr>\n",
       "      <th>3</th>\n",
       "      <td>4</td>\n",
       "      <td>207932470</td>\n",
       "      <td>Train</td>\n",
       "      <td>PS</td>\n",
       "      <td>69.150325</td>\n",
       "      <td>298</td>\n",
       "      <td>19.456140</td>\n",
       "      <td>102.294737</td>\n",
       "      <td>28.217544</td>\n",
       "      <td>31.028070</td>\n",
       "      <td>...</td>\n",
       "      <td>5545</td>\n",
       "      <td>28870.0</td>\n",
       "      <td>8042</td>\n",
       "      <td>8843</td>\n",
       "      <td>13.818968</td>\n",
       "      <td>30.005643</td>\n",
       "      <td>24.749537</td>\n",
       "      <td>13.392830</td>\n",
       "      <td>487</td>\n",
       "      <td>295</td>\n",
       "    </tr>\n",
       "    <tr>\n",
       "      <th>4</th>\n",
       "      <td>5</td>\n",
       "      <td>207932455</td>\n",
       "      <td>Test</td>\n",
       "      <td>PS</td>\n",
       "      <td>2.887837</td>\n",
       "      <td>285</td>\n",
       "      <td>24.275735</td>\n",
       "      <td>112.415441</td>\n",
       "      <td>20.474265</td>\n",
       "      <td>40.577206</td>\n",
       "      <td>...</td>\n",
       "      <td>6603</td>\n",
       "      <td>30306.0</td>\n",
       "      <td>5569</td>\n",
       "      <td>11037</td>\n",
       "      <td>15.407972</td>\n",
       "      <td>20.504288</td>\n",
       "      <td>45.450457</td>\n",
       "      <td>13.198561</td>\n",
       "      <td>283</td>\n",
       "      <td>159</td>\n",
       "    </tr>\n",
       "  </tbody>\n",
       "</table>\n",
       "<p>5 rows × 62 columns</p>\n",
       "</div>"
      ],
      "text/plain": [
       "   Unnamed: 0       Cell   Case Class    AngleCh1  AreaCh1  AvgIntenCh1  \\\n",
       "0           1  207827637   Test    PS  143.247705      185    15.711864   \n",
       "1           2  207932307  Train    PS  133.752037      819    31.923274   \n",
       "2           3  207932463  Train    WS  106.646387      431    28.038835   \n",
       "3           4  207932470  Train    PS   69.150325      298    19.456140   \n",
       "4           5  207932455   Test    PS    2.887837      285    24.275735   \n",
       "\n",
       "   AvgIntenCh2  AvgIntenCh3  AvgIntenCh4    ...      TotalIntenCh1  \\\n",
       "0     4.954802     9.548023     2.214689    ...               2781   \n",
       "1   206.878517    69.916880   164.153453    ...              24964   \n",
       "2   116.315534    63.941748   106.696602    ...              11552   \n",
       "3   102.294737    28.217544    31.028070    ...               5545   \n",
       "4   112.415441    20.474265    40.577206    ...               6603   \n",
       "\n",
       "   TotalIntenCh2  TotalIntenCh3  TotalIntenCh4  VarIntenCh1  VarIntenCh3  \\\n",
       "0          701.0           1690            392    12.474676     7.609035   \n",
       "1       160998.0          54675         128368    18.809225    56.715352   \n",
       "2        47511.0          26344          43959    17.295643    37.671053   \n",
       "3        28870.0           8042           8843    13.818968    30.005643   \n",
       "4        30306.0           5569          11037    15.407972    20.504288   \n",
       "\n",
       "   VarIntenCh4   WidthCh1  XCentroid  YCentroid  \n",
       "0     2.714100  10.642974         42         14  \n",
       "1   118.388139  32.161261        215        347  \n",
       "2    49.470524  21.185525        371        252  \n",
       "3    24.749537  13.392830        487        295  \n",
       "4    45.450457  13.198561        283        159  \n",
       "\n",
       "[5 rows x 62 columns]"
      ]
     },
     "execution_count": 4,
     "metadata": {},
     "output_type": "execute_result"
    }
   ],
   "source": [
    "segData = pd.read_csv(datasets[0])\n",
    "segData.head()"
   ]
  },
  {
   "cell_type": "markdown",
   "metadata": {},
   "source": [
    "#### List of predictors \n",
    "\n",
    "The researchers used different stains that would be visible to different optical channels. \n",
    "* Channel one was associated with the cell body and can be used to determine the cell perimeter, area, and other qualities. \n",
    "* Channel two interrogated the cell nucleus by staining the nuclear DNA \n",
    "* Channels three and four were stained to detect actin and tubulin, respectively. \n",
    "\n"
   ]
  },
  {
   "cell_type": "code",
   "execution_count": 5,
   "metadata": {},
   "outputs": [
    {
     "data": {
      "text/plain": [
       "62"
      ]
     },
     "execution_count": 5,
     "metadata": {},
     "output_type": "execute_result"
    }
   ],
   "source": [
    "len(list(segData))\n"
   ]
  },
  {
   "cell_type": "code",
   "execution_count": 6,
   "metadata": {},
   "outputs": [
    {
     "name": "stdout",
     "output_type": "stream",
     "text": [
      "['Unnamed: 0', 'Cell', 'Case', 'Class', 'AngleCh1', 'AreaCh1', 'AvgIntenCh1', 'AvgIntenCh2', 'AvgIntenCh3', 'AvgIntenCh4', 'ConvexHullAreaRatioCh1', 'ConvexHullPerimRatioCh1', 'DiffIntenDensityCh1', 'DiffIntenDensityCh3', 'DiffIntenDensityCh4', 'EntropyIntenCh1', 'EntropyIntenCh3', 'EntropyIntenCh4', 'EqCircDiamCh1', 'EqEllipseLWRCh1', 'EqEllipseOblateVolCh1', 'EqEllipseProlateVolCh1', 'EqSphereAreaCh1', 'EqSphereVolCh1', 'FiberAlign2Ch3', 'FiberAlign2Ch4', 'FiberLengthCh1', 'FiberWidthCh1', 'IntenCoocASMCh3', 'IntenCoocASMCh4', 'IntenCoocContrastCh3', 'IntenCoocContrastCh4', 'IntenCoocEntropyCh3', 'IntenCoocEntropyCh4', 'IntenCoocMaxCh3', 'IntenCoocMaxCh4', 'KurtIntenCh1', 'KurtIntenCh3', 'KurtIntenCh4', 'LengthCh1', 'NeighborAvgDistCh1', 'NeighborMinDistCh1', 'NeighborVarDistCh1', 'PerimCh1', 'ShapeBFRCh1', 'ShapeLWRCh1', 'ShapeP2ACh1', 'SkewIntenCh1', 'SkewIntenCh3', 'SkewIntenCh4', 'SpotFiberCountCh3', 'SpotFiberCountCh4', 'TotalIntenCh1', 'TotalIntenCh2', 'TotalIntenCh3', 'TotalIntenCh4', 'VarIntenCh1', 'VarIntenCh3', 'VarIntenCh4', 'WidthCh1', 'XCentroid', 'YCentroid']\n"
     ]
    }
   ],
   "source": [
    "print (list(segData), end=\"\\n\")"
   ]
  },
  {
   "cell_type": "code",
   "execution_count": 7,
   "metadata": {},
   "outputs": [
    {
     "data": {
      "text/html": [
       "<div>\n",
       "<style>\n",
       "    .dataframe thead tr:only-child th {\n",
       "        text-align: right;\n",
       "    }\n",
       "\n",
       "    .dataframe thead th {\n",
       "        text-align: left;\n",
       "    }\n",
       "\n",
       "    .dataframe tbody tr th {\n",
       "        vertical-align: top;\n",
       "    }\n",
       "</style>\n",
       "<table border=\"1\" class=\"dataframe\">\n",
       "  <thead>\n",
       "    <tr style=\"text-align: right;\">\n",
       "      <th></th>\n",
       "      <th>Unnamed: 0</th>\n",
       "      <th>Cell</th>\n",
       "      <th>AngleCh1</th>\n",
       "      <th>AreaCh1</th>\n",
       "      <th>AvgIntenCh1</th>\n",
       "      <th>AvgIntenCh2</th>\n",
       "      <th>AvgIntenCh3</th>\n",
       "      <th>AvgIntenCh4</th>\n",
       "      <th>ConvexHullAreaRatioCh1</th>\n",
       "      <th>ConvexHullPerimRatioCh1</th>\n",
       "      <th>...</th>\n",
       "      <th>TotalIntenCh1</th>\n",
       "      <th>TotalIntenCh2</th>\n",
       "      <th>TotalIntenCh3</th>\n",
       "      <th>TotalIntenCh4</th>\n",
       "      <th>VarIntenCh1</th>\n",
       "      <th>VarIntenCh3</th>\n",
       "      <th>VarIntenCh4</th>\n",
       "      <th>WidthCh1</th>\n",
       "      <th>XCentroid</th>\n",
       "      <th>YCentroid</th>\n",
       "    </tr>\n",
       "  </thead>\n",
       "  <tbody>\n",
       "    <tr>\n",
       "      <th>count</th>\n",
       "      <td>2019.000000</td>\n",
       "      <td>2.019000e+03</td>\n",
       "      <td>2019.000000</td>\n",
       "      <td>2019.000000</td>\n",
       "      <td>2019.000000</td>\n",
       "      <td>2019.000000</td>\n",
       "      <td>2019.000000</td>\n",
       "      <td>2019.000000</td>\n",
       "      <td>2019.000000</td>\n",
       "      <td>2019.000000</td>\n",
       "      <td>...</td>\n",
       "      <td>2019.000000</td>\n",
       "      <td>2019.000000</td>\n",
       "      <td>2019.000000</td>\n",
       "      <td>2019.000000</td>\n",
       "      <td>2019.000000</td>\n",
       "      <td>2019.000000</td>\n",
       "      <td>2019.000000</td>\n",
       "      <td>2019.000000</td>\n",
       "      <td>2019.000000</td>\n",
       "      <td>2019.000000</td>\n",
       "    </tr>\n",
       "    <tr>\n",
       "      <th>mean</th>\n",
       "      <td>1010.000000</td>\n",
       "      <td>2.084024e+08</td>\n",
       "      <td>90.493405</td>\n",
       "      <td>320.336305</td>\n",
       "      <td>126.071679</td>\n",
       "      <td>189.052115</td>\n",
       "      <td>96.420171</td>\n",
       "      <td>140.701586</td>\n",
       "      <td>1.205859</td>\n",
       "      <td>0.895764</td>\n",
       "      <td>...</td>\n",
       "      <td>37245.123328</td>\n",
       "      <td>52258.089153</td>\n",
       "      <td>26759.650322</td>\n",
       "      <td>40551.359584</td>\n",
       "      <td>72.197502</td>\n",
       "      <td>98.554872</td>\n",
       "      <td>120.021172</td>\n",
       "      <td>17.623982</td>\n",
       "      <td>260.727093</td>\n",
       "      <td>177.343239</td>\n",
       "    </tr>\n",
       "    <tr>\n",
       "      <th>std</th>\n",
       "      <td>582.979416</td>\n",
       "      <td>2.790457e+05</td>\n",
       "      <td>48.760000</td>\n",
       "      <td>214.023533</td>\n",
       "      <td>165.008380</td>\n",
       "      <td>158.956105</td>\n",
       "      <td>96.666921</td>\n",
       "      <td>146.634665</td>\n",
       "      <td>0.202522</td>\n",
       "      <td>0.076108</td>\n",
       "      <td>...</td>\n",
       "      <td>61836.388435</td>\n",
       "      <td>46496.512752</td>\n",
       "      <td>27758.916848</td>\n",
       "      <td>46312.198211</td>\n",
       "      <td>79.690885</td>\n",
       "      <td>96.908200</td>\n",
       "      <td>112.108618</td>\n",
       "      <td>6.166931</td>\n",
       "      <td>140.365593</td>\n",
       "      <td>107.720132</td>\n",
       "    </tr>\n",
       "    <tr>\n",
       "      <th>min</th>\n",
       "      <td>1.000000</td>\n",
       "      <td>2.078276e+08</td>\n",
       "      <td>0.030876</td>\n",
       "      <td>150.000000</td>\n",
       "      <td>15.160401</td>\n",
       "      <td>1.000000</td>\n",
       "      <td>0.120000</td>\n",
       "      <td>0.563265</td>\n",
       "      <td>1.005831</td>\n",
       "      <td>0.510623</td>\n",
       "      <td>...</td>\n",
       "      <td>2382.000000</td>\n",
       "      <td>1.000000</td>\n",
       "      <td>24.000000</td>\n",
       "      <td>96.000000</td>\n",
       "      <td>11.466564</td>\n",
       "      <td>0.869253</td>\n",
       "      <td>2.301536</td>\n",
       "      <td>6.393216</td>\n",
       "      <td>9.000000</td>\n",
       "      <td>8.000000</td>\n",
       "    </tr>\n",
       "    <tr>\n",
       "      <th>25%</th>\n",
       "      <td>505.500000</td>\n",
       "      <td>2.083325e+08</td>\n",
       "      <td>53.892207</td>\n",
       "      <td>193.000000</td>\n",
       "      <td>35.364158</td>\n",
       "      <td>44.998572</td>\n",
       "      <td>33.495694</td>\n",
       "      <td>40.679739</td>\n",
       "      <td>1.065236</td>\n",
       "      <td>0.856972</td>\n",
       "      <td>...</td>\n",
       "      <td>9499.500000</td>\n",
       "      <td>14367.000000</td>\n",
       "      <td>8776.000000</td>\n",
       "      <td>9939.000000</td>\n",
       "      <td>25.302948</td>\n",
       "      <td>36.704721</td>\n",
       "      <td>47.426963</td>\n",
       "      <td>13.820393</td>\n",
       "      <td>142.000000</td>\n",
       "      <td>88.000000</td>\n",
       "    </tr>\n",
       "    <tr>\n",
       "      <th>50%</th>\n",
       "      <td>1010.000000</td>\n",
       "      <td>2.083843e+08</td>\n",
       "      <td>90.588773</td>\n",
       "      <td>253.000000</td>\n",
       "      <td>62.343173</td>\n",
       "      <td>173.506329</td>\n",
       "      <td>67.431250</td>\n",
       "      <td>90.250000</td>\n",
       "      <td>1.148620</td>\n",
       "      <td>0.913262</td>\n",
       "      <td>...</td>\n",
       "      <td>18285.000000</td>\n",
       "      <td>49220.000000</td>\n",
       "      <td>18749.000000</td>\n",
       "      <td>24839.000000</td>\n",
       "      <td>42.500015</td>\n",
       "      <td>69.116555</td>\n",
       "      <td>87.250451</td>\n",
       "      <td>16.187731</td>\n",
       "      <td>262.000000</td>\n",
       "      <td>165.000000</td>\n",
       "    </tr>\n",
       "    <tr>\n",
       "      <th>75%</th>\n",
       "      <td>1514.500000</td>\n",
       "      <td>2.084052e+08</td>\n",
       "      <td>126.682013</td>\n",
       "      <td>362.500000</td>\n",
       "      <td>143.187785</td>\n",
       "      <td>279.289699</td>\n",
       "      <td>127.341651</td>\n",
       "      <td>191.170427</td>\n",
       "      <td>1.280514</td>\n",
       "      <td>0.955606</td>\n",
       "      <td>...</td>\n",
       "      <td>35716.500000</td>\n",
       "      <td>72495.000000</td>\n",
       "      <td>35277.000000</td>\n",
       "      <td>55004.000000</td>\n",
       "      <td>81.771899</td>\n",
       "      <td>123.839112</td>\n",
       "      <td>159.136619</td>\n",
       "      <td>19.784021</td>\n",
       "      <td>382.000000</td>\n",
       "      <td>253.000000</td>\n",
       "    </tr>\n",
       "    <tr>\n",
       "      <th>max</th>\n",
       "      <td>2019.000000</td>\n",
       "      <td>2.109641e+08</td>\n",
       "      <td>179.939323</td>\n",
       "      <td>2186.000000</td>\n",
       "      <td>1418.634831</td>\n",
       "      <td>989.509804</td>\n",
       "      <td>1205.511538</td>\n",
       "      <td>886.837500</td>\n",
       "      <td>2.900320</td>\n",
       "      <td>0.996499</td>\n",
       "      <td>...</td>\n",
       "      <td>741411.000000</td>\n",
       "      <td>363311.000000</td>\n",
       "      <td>313433.000000</td>\n",
       "      <td>519602.000000</td>\n",
       "      <td>642.024719</td>\n",
       "      <td>757.020963</td>\n",
       "      <td>933.524313</td>\n",
       "      <td>54.744763</td>\n",
       "      <td>501.000000</td>\n",
       "      <td>501.000000</td>\n",
       "    </tr>\n",
       "  </tbody>\n",
       "</table>\n",
       "<p>8 rows × 60 columns</p>\n",
       "</div>"
      ],
      "text/plain": [
       "        Unnamed: 0          Cell     AngleCh1      AreaCh1  AvgIntenCh1  \\\n",
       "count  2019.000000  2.019000e+03  2019.000000  2019.000000  2019.000000   \n",
       "mean   1010.000000  2.084024e+08    90.493405   320.336305   126.071679   \n",
       "std     582.979416  2.790457e+05    48.760000   214.023533   165.008380   \n",
       "min       1.000000  2.078276e+08     0.030876   150.000000    15.160401   \n",
       "25%     505.500000  2.083325e+08    53.892207   193.000000    35.364158   \n",
       "50%    1010.000000  2.083843e+08    90.588773   253.000000    62.343173   \n",
       "75%    1514.500000  2.084052e+08   126.682013   362.500000   143.187785   \n",
       "max    2019.000000  2.109641e+08   179.939323  2186.000000  1418.634831   \n",
       "\n",
       "       AvgIntenCh2  AvgIntenCh3  AvgIntenCh4  ConvexHullAreaRatioCh1  \\\n",
       "count  2019.000000  2019.000000  2019.000000             2019.000000   \n",
       "mean    189.052115    96.420171   140.701586                1.205859   \n",
       "std     158.956105    96.666921   146.634665                0.202522   \n",
       "min       1.000000     0.120000     0.563265                1.005831   \n",
       "25%      44.998572    33.495694    40.679739                1.065236   \n",
       "50%     173.506329    67.431250    90.250000                1.148620   \n",
       "75%     279.289699   127.341651   191.170427                1.280514   \n",
       "max     989.509804  1205.511538   886.837500                2.900320   \n",
       "\n",
       "       ConvexHullPerimRatioCh1     ...       TotalIntenCh1  TotalIntenCh2  \\\n",
       "count              2019.000000     ...         2019.000000    2019.000000   \n",
       "mean                  0.895764     ...        37245.123328   52258.089153   \n",
       "std                   0.076108     ...        61836.388435   46496.512752   \n",
       "min                   0.510623     ...         2382.000000       1.000000   \n",
       "25%                   0.856972     ...         9499.500000   14367.000000   \n",
       "50%                   0.913262     ...        18285.000000   49220.000000   \n",
       "75%                   0.955606     ...        35716.500000   72495.000000   \n",
       "max                   0.996499     ...       741411.000000  363311.000000   \n",
       "\n",
       "       TotalIntenCh3  TotalIntenCh4  VarIntenCh1  VarIntenCh3  VarIntenCh4  \\\n",
       "count    2019.000000    2019.000000  2019.000000  2019.000000  2019.000000   \n",
       "mean    26759.650322   40551.359584    72.197502    98.554872   120.021172   \n",
       "std     27758.916848   46312.198211    79.690885    96.908200   112.108618   \n",
       "min        24.000000      96.000000    11.466564     0.869253     2.301536   \n",
       "25%      8776.000000    9939.000000    25.302948    36.704721    47.426963   \n",
       "50%     18749.000000   24839.000000    42.500015    69.116555    87.250451   \n",
       "75%     35277.000000   55004.000000    81.771899   123.839112   159.136619   \n",
       "max    313433.000000  519602.000000   642.024719   757.020963   933.524313   \n",
       "\n",
       "          WidthCh1    XCentroid    YCentroid  \n",
       "count  2019.000000  2019.000000  2019.000000  \n",
       "mean     17.623982   260.727093   177.343239  \n",
       "std       6.166931   140.365593   107.720132  \n",
       "min       6.393216     9.000000     8.000000  \n",
       "25%      13.820393   142.000000    88.000000  \n",
       "50%      16.187731   262.000000   165.000000  \n",
       "75%      19.784021   382.000000   253.000000  \n",
       "max      54.744763   501.000000   501.000000  \n",
       "\n",
       "[8 rows x 60 columns]"
      ]
     },
     "execution_count": 7,
     "metadata": {},
     "output_type": "execute_result"
    }
   ],
   "source": [
    "segData.describe()"
   ]
  },
  {
   "cell_type": "markdown",
   "metadata": {},
   "source": [
    "**Class labels**"
   ]
  },
  {
   "cell_type": "code",
   "execution_count": 8,
   "metadata": {},
   "outputs": [
    {
     "data": {
      "text/plain": [
       "array(['PS', 'WS'], dtype=object)"
      ]
     },
     "execution_count": 8,
     "metadata": {},
     "output_type": "execute_result"
    }
   ],
   "source": [
    "segData.Class.unique()"
   ]
  },
  {
   "cell_type": "markdown",
   "metadata": {},
   "source": [
    "**Training/Testing Split**"
   ]
  },
  {
   "cell_type": "code",
   "execution_count": 9,
   "metadata": {},
   "outputs": [
    {
     "data": {
      "text/plain": [
       "Case\n",
       "Test     1010\n",
       "Train    1009\n",
       "Name: Case, dtype: int64"
      ]
     },
     "execution_count": 9,
     "metadata": {},
     "output_type": "execute_result"
    }
   ],
   "source": [
    "segData.groupby('Case')['Case'].count()"
   ]
  },
  {
   "cell_type": "code",
   "execution_count": 10,
   "metadata": {},
   "outputs": [],
   "source": [
    "segDataTrain = segData.loc[segData.Case == 'Train']\n",
    "segDataTest = segData.loc[segData.Case == 'Test']"
   ]
  },
  {
   "cell_type": "markdown",
   "metadata": {},
   "source": [
    "## 3.2 Data Transformaiton for Individual Predictors\n",
    "\n",
    "Individual predictors might need transformation for several reasons. The model might require that all predictors adhere to a common scale. The skweness or outliners in the data can also make it harder to build a quality models. Such situation need to be handled before building a model. \n",
    "\n",
    "*Next lets look at different type of data transformation involving invidual predictors.*"
   ]
  },
  {
   "cell_type": "markdown",
   "metadata": {},
   "source": [
    "### Centering and Scaling\n",
    "\n",
    "Most common form of transformation is to center scale the predictor variables. This is done by simply subtracting the average value of the predictor from all values. This will give the predictor mean of zero. To scale, each predictor is divided by its standard deviation. \n",
    "\n",
    "**Pros** : All the data in your model will now have a common scale with zero mean and standard deviation of 1. This offers more numerical stability and \n",
    "\n",
    "**Cons**: One downside is that you lose the interpretability of the individual values since that data is no longer in the original units. "
   ]
  },
  {
   "cell_type": "markdown",
   "metadata": {},
   "source": [
    "### Transformations to Resolve Skewness\n",
    "\n",
    "An un-skewed distribution is the one that is roughly symmetric. This means that the probability of falling on either side of the distribution's mean is roughly equal. \n",
    "\n",
    "A *right-skewed* distribution has large number of points on the left side of the distribution (smaller values) then on the right side (larger values). Two ways we can get an idea about the skewness in the data.\n",
    "\n",
    "1. If the ratio of highest to the lowest value is high (> 20), than data have significant skewness. \n",
    "2. The skewness statistics can also be used as a diagnostic tool. \n",
    "\n",
    "A roughly symmetric distribution will have the skewness value close to zero, right skewed distribution have a large positive value, and for left skewed this value becomes negative. The formula for skewness is given below:\n",
    "\n",
    "\\begin{align}\n",
    "skewness = \\frac{\\sum(x_i - \\bar{x})^3}{(n-1)v^{\\frac{3}{2}}} \\\\\n",
    "where \\space v = \\frac{\\sum(x_i - \\bar{x})^2}{(n-1)},\n",
    "\\end{align}\n",
    "\n",
    "where x is the predictor variable, n is the number of values, and $\\bar{x}$ is the sample mean of the predictor.\n",
    "\n",
    "**An example of right skewed data**: The plot below shows a histogram of the standard deviation of the intensity of the pixels in actin filaments (Channel 3). The plot on the left is in natural units, whereas the right plot shows the same data after a log transformation. "
   ]
  },
  {
   "cell_type": "code",
   "execution_count": 11,
   "metadata": {},
   "outputs": [
    {
     "data": {
      "text/plain": [
       "Text(0,0.5,'Count')"
      ]
     },
     "execution_count": 11,
     "metadata": {},
     "output_type": "execute_result"
    },
    {
     "data": {
      "image/png": "[encoded data removed]",
      "text/plain": [
       "<matplotlib.figure.Figure at 0x7fcaee6dd208>"
      ]
     },
     "metadata": {},
     "output_type": "display_data"
    }
   ],
   "source": [
    "fig, (ax1, ax2) = plt.subplots(1, 2)\n",
    "\n",
    "ax1.hist(segDataTrain.VarIntenCh3.values, bins=20, color='lavender')\n",
    "ax1.set_xlabel('Natural Units')\n",
    "ax1.set_ylabel('Count')\n",
    "\n",
    "ax2.hist(np.log(segDataTrain.VarIntenCh3.values), bins=20, color='lavender')\n",
    "ax2.set_xlabel('Log Units')\n",
    "ax2.set_ylabel('Count')"
   ]
  },
  {
   "cell_type": "markdown",
   "metadata": {},
   "source": [
    "The predictor above has a strong skewnewss with a concentration of points with low values. Here ratio of the smallest to the largest value is 870 with a skewness value of 2.39. The skewness value drops to -0.4 when the same data is logged. "
   ]
  },
  {
   "cell_type": "code",
   "execution_count": 12,
   "metadata": {},
   "outputs": [
    {
     "name": "stdout",
     "output_type": "stream",
     "text": [
      "Skewness statistics of natural data  2.39399697711\n",
      "Ratio of largest to smallest value  870.887247203\n",
      "Skewness statistics of log data  -0.404186963503\n"
     ]
    }
   ],
   "source": [
    "def skewness(X):\n",
    "    \" Compute the skewness statistics\"\n",
    "    N = X.count()\n",
    "    mu = np.mean(X)\n",
    "    v = np.dot(X-mu, X-mu) / (N -1)\n",
    "    \n",
    "    return np.sum( (X-mu) **3) / ( (N -1) * v ** (3/2))\n",
    "    \n",
    "def ratio_larget_to_smallest(X):\n",
    "    return max(X) / min(X)\n",
    "\n",
    "print (\"Skewness statistics of natural data \", skewness(segDataTrain.VarIntenCh3))\n",
    "print (\"Ratio of largest to smallest value \", ratio_larget_to_smallest(segDataTrain.VarIntenCh3))\n",
    "print (\"Skewness statistics of log data \", skewness(np.log(segDataTrain.VarIntenCh3)))"
   ]
  },
  {
   "cell_type": "markdown",
   "metadata": {},
   "source": [
    "**Box-Cox**: A direct method to empirically identify appropriate transformation is propsed by Box and Cox. These trnasformations are indexed by a parameter $\\lambda$. The training data is used for estimating the value of $\\lambda$ using maximum likelihood estimation. \n",
    "\n",
    "\\begin{align}\n",
    "    x^*=\n",
    "     \\begin{cases}\n",
    "      \\frac{x^\\lambda -1}{\\lambda}, & \\text{if}\\ \\lambda \\neq 1 \\\\\n",
    "      log(x), & \\text{if}\\ \\lambda = 0\n",
    "    \\end{cases}\n",
    "\\end{align}\n",
    "\n",
    "In addition to log transformations, the box-cox family can identify square transformations ( $\\lambda = 2$), square root ( $\\lambda = 0.5$), inverse ( $\\lambda = -1$).  \n",
    "\n",
    "The plot below shows the histogram of cell perimeter predictor. *Left*: plot with natural units. *Right*: the same data after Box-Cox transformation with $\\lambda$ estimated to be -1.1. "
   ]
  },
  {
   "cell_type": "code",
   "execution_count": 13,
   "metadata": {},
   "outputs": [
    {
     "name": "stdout",
     "output_type": "stream",
     "text": [
      "Box-Cox lambda value = -1.09128437890813\n"
     ]
    },
    {
     "data": {
      "image/png": "[encoded data removed]",
      "text/plain": [
       "<matplotlib.figure.Figure at 0x7fcaee54e908>"
      ]
     },
     "metadata": {},
     "output_type": "display_data"
    }
   ],
   "source": [
    "fig, (ax1, ax2) = plt.subplots(1, 2)\n",
    "\n",
    "ax1.hist(segDataTrain.PerimCh1.values, bins=20, color='lavender')\n",
    "ax1.set_xlabel('Natural Units')\n",
    "ax1.set_ylabel('Count')\n",
    "\n",
    "ax2.hist(boxcox(segDataTrain.PerimCh1.values)[0], bins=20, color='lavender')\n",
    "ax2.set_xlabel('Log Units')\n",
    "ax2.set_ylabel('Count')\n",
    "\n",
    "print (\"Box-Cox lambda value = {}\".format(boxcox(segDataTrain.PerimCh1.values)[1]))"
   ]
  },
  {
   "cell_type": "markdown",
   "metadata": {},
   "source": [
    "## 3.3 Data Transformations for Multiple Predictors\n",
    "\n",
    "These transformations act on groups of predictors. \n",
    "\n",
    "### Transformations to Resolve Outliers\n",
    "\n",
    "Outliers are samples that are exceptionally far from the mainstream of the data. Suspected outlier samples need to carefully evaluated to make sure that they are otherwise valid and no data recording errors have occured. Additionaly, the outlying data may be an indication of a special part of the population that is just starting to be sampled. \n",
    "\n",
    "Certain **models are resistant to outlier**. Tree based are usually not affected by outliers. Also, support vector machines also ignores portion of the training samples that might be far away from the decision boundary. \n",
    "\n",
    "\n",
    "If a model is sensitive to outliers, a **spatial sign** transformation can minimize the problem. It projects the predictor values onto a multidimensional sphere. This has the effect of making all the samples the same distance from the center of the sphere. Mathematiclaly, each sample is divided by its square norm:\n",
    "\n",
    "\\begin{align}\n",
    "x_{ij}^{*} = \\frac{x_{ij}}{\\sum_{j=1}^Px_{ij}^2}\n",
    "\\end{align}\n",
    "\n",
    "It is important to center and scale the predictor data prior to using the spatial sign transformation as the denominator above is intended to measure the square distance to the center of the predictor's distribution. \n",
    "\n",
    "\n"
   ]
  },
  {
   "cell_type": "code",
   "execution_count": 26,
   "metadata": {},
   "outputs": [
    {
     "data": {
      "image/png": "[encoded data removed]",
      "text/plain": [
       "<matplotlib.figure.Figure at 0x7fcaedb34a20>"
      ]
     },
     "metadata": {},
     "output_type": "display_data"
    }
   ],
   "source": [
    "N = 1000\n",
    "slope, intercept = 0.9, -2.5\n",
    "X = np.random.normal(4, 2, N)\n",
    "Y = intercept + (slope * X + np.random.normal(size = N))\n",
    "\n",
    "X_outliers = np.random.uniform(-4, -3, 8)\n",
    "Y_outliers = X_outliers + np.random.normal(size = 8)\n",
    "\n",
    "plt.scatter(X, Y)\n",
    "plt.plot(X_outliers, Y_outliers, 'ro', 'markersize=8')\n",
    "plt.show()"
   ]
  },
  {
   "cell_type": "code",
   "execution_count": null,
   "metadata": {},
   "outputs": [],
   "source": []
  }
 ],
 "metadata": {
  "kernelspec": {
   "display_name": "Python (AI)",
   "language": "python",
   "name": "ai"
  },
  "language_info": {
   "codemirror_mode": {
    "name": "ipython",
    "version": 3
   },
   "file_extension": ".py",
   "mimetype": "text/x-python",
   "name": "python",
   "nbconvert_exporter": "python",
   "pygments_lexer": "ipython3",
   "version": "3.6.3"
  }
 },
 "nbformat": 4,
 "nbformat_minor": 2
}
