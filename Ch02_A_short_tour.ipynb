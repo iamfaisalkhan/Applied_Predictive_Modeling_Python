{
 "cells": [
  {
   "cell_type": "code",
   "execution_count": 18,
   "metadata": {},
   "outputs": [],
   "source": [
    "import pandas as pd\n",
    "import numpy as np\n",
    "import matplotlib.pyplot as plt\n",
    "import glob\n",
    "\n",
    "%matplotlib inline  \n"
   ]
  },
  {
   "cell_type": "code",
   "execution_count": 5,
   "metadata": {},
   "outputs": [],
   "source": [
    "datasets = glob.glob('./datasets/FuelEconomy/*.csv')"
   ]
  },
  {
   "cell_type": "code",
   "execution_count": 6,
   "metadata": {},
   "outputs": [
    {
     "data": {
      "text/plain": [
       "['./datasets/FuelEconomy/cars2011.csv',\n",
       " './datasets/FuelEconomy/cars2010.csv',\n",
       " './datasets/FuelEconomy/cars2012.csv']"
      ]
     },
     "execution_count": 6,
     "metadata": {},
     "output_type": "execute_result"
    }
   ],
   "source": [
    "datasets"
   ]
  },
  {
   "cell_type": "code",
   "execution_count": 8,
   "metadata": {},
   "outputs": [
    {
     "data": {
      "text/html": [
       "<div>\n",
       "<style>\n",
       "    .dataframe thead tr:only-child th {\n",
       "        text-align: right;\n",
       "    }\n",
       "\n",
       "    .dataframe thead th {\n",
       "        text-align: left;\n",
       "    }\n",
       "\n",
       "    .dataframe tbody tr th {\n",
       "        vertical-align: top;\n",
       "    }\n",
       "</style>\n",
       "<table border=\"1\" class=\"dataframe\">\n",
       "  <thead>\n",
       "    <tr style=\"text-align: right;\">\n",
       "      <th></th>\n",
       "      <th>Unnamed: 0</th>\n",
       "      <th>EngDispl</th>\n",
       "      <th>NumCyl</th>\n",
       "      <th>Transmission</th>\n",
       "      <th>FE</th>\n",
       "      <th>AirAspirationMethod</th>\n",
       "      <th>NumGears</th>\n",
       "      <th>TransLockup</th>\n",
       "      <th>TransCreeperGear</th>\n",
       "      <th>DriveDesc</th>\n",
       "      <th>IntakeValvePerCyl</th>\n",
       "      <th>ExhaustValvesPerCyl</th>\n",
       "      <th>CarlineClassDesc</th>\n",
       "      <th>VarValveTiming</th>\n",
       "      <th>VarValveLift</th>\n",
       "    </tr>\n",
       "  </thead>\n",
       "  <tbody>\n",
       "    <tr>\n",
       "      <th>0</th>\n",
       "      <td>1</td>\n",
       "      <td>5.9</td>\n",
       "      <td>12</td>\n",
       "      <td>M6</td>\n",
       "      <td>22.9258</td>\n",
       "      <td>NaturallyAspirated</td>\n",
       "      <td>6</td>\n",
       "      <td>0.0</td>\n",
       "      <td>0.0</td>\n",
       "      <td>TwoWheelDriveRear</td>\n",
       "      <td>2</td>\n",
       "      <td>2</td>\n",
       "      <td>2Seaters</td>\n",
       "      <td>0.0</td>\n",
       "      <td>0.0</td>\n",
       "    </tr>\n",
       "    <tr>\n",
       "      <th>1</th>\n",
       "      <td>8</td>\n",
       "      <td>4.2</td>\n",
       "      <td>8</td>\n",
       "      <td>AM6</td>\n",
       "      <td>26.7678</td>\n",
       "      <td>NaturallyAspirated</td>\n",
       "      <td>6</td>\n",
       "      <td>0.0</td>\n",
       "      <td>0.0</td>\n",
       "      <td>AllWheelDrive</td>\n",
       "      <td>2</td>\n",
       "      <td>2</td>\n",
       "      <td>2Seaters</td>\n",
       "      <td>1.0</td>\n",
       "      <td>0.0</td>\n",
       "    </tr>\n",
       "    <tr>\n",
       "      <th>2</th>\n",
       "      <td>9</td>\n",
       "      <td>4.2</td>\n",
       "      <td>8</td>\n",
       "      <td>M6</td>\n",
       "      <td>24.3010</td>\n",
       "      <td>NaturallyAspirated</td>\n",
       "      <td>6</td>\n",
       "      <td>0.0</td>\n",
       "      <td>0.0</td>\n",
       "      <td>AllWheelDrive</td>\n",
       "      <td>2</td>\n",
       "      <td>2</td>\n",
       "      <td>2Seaters</td>\n",
       "      <td>1.0</td>\n",
       "      <td>0.0</td>\n",
       "    </tr>\n",
       "    <tr>\n",
       "      <th>3</th>\n",
       "      <td>10</td>\n",
       "      <td>5.2</td>\n",
       "      <td>10</td>\n",
       "      <td>AM6</td>\n",
       "      <td>24.3325</td>\n",
       "      <td>NaturallyAspirated</td>\n",
       "      <td>6</td>\n",
       "      <td>0.0</td>\n",
       "      <td>0.0</td>\n",
       "      <td>AllWheelDrive</td>\n",
       "      <td>2</td>\n",
       "      <td>2</td>\n",
       "      <td>2Seaters</td>\n",
       "      <td>1.0</td>\n",
       "      <td>0.0</td>\n",
       "    </tr>\n",
       "    <tr>\n",
       "      <th>4</th>\n",
       "      <td>11</td>\n",
       "      <td>5.2</td>\n",
       "      <td>10</td>\n",
       "      <td>M6</td>\n",
       "      <td>23.0667</td>\n",
       "      <td>NaturallyAspirated</td>\n",
       "      <td>6</td>\n",
       "      <td>0.0</td>\n",
       "      <td>0.0</td>\n",
       "      <td>AllWheelDrive</td>\n",
       "      <td>2</td>\n",
       "      <td>2</td>\n",
       "      <td>2Seaters</td>\n",
       "      <td>1.0</td>\n",
       "      <td>0.0</td>\n",
       "    </tr>\n",
       "  </tbody>\n",
       "</table>\n",
       "</div>"
      ],
      "text/plain": [
       "   Unnamed: 0  EngDispl  NumCyl Transmission       FE AirAspirationMethod  \\\n",
       "0           1       5.9      12           M6  22.9258  NaturallyAspirated   \n",
       "1           8       4.2       8          AM6  26.7678  NaturallyAspirated   \n",
       "2           9       4.2       8           M6  24.3010  NaturallyAspirated   \n",
       "3          10       5.2      10          AM6  24.3325  NaturallyAspirated   \n",
       "4          11       5.2      10           M6  23.0667  NaturallyAspirated   \n",
       "\n",
       "   NumGears  TransLockup  TransCreeperGear          DriveDesc  \\\n",
       "0         6          0.0               0.0  TwoWheelDriveRear   \n",
       "1         6          0.0               0.0      AllWheelDrive   \n",
       "2         6          0.0               0.0      AllWheelDrive   \n",
       "3         6          0.0               0.0      AllWheelDrive   \n",
       "4         6          0.0               0.0      AllWheelDrive   \n",
       "\n",
       "   IntakeValvePerCyl  ExhaustValvesPerCyl CarlineClassDesc  VarValveTiming  \\\n",
       "0                  2                    2         2Seaters             0.0   \n",
       "1                  2                    2         2Seaters             1.0   \n",
       "2                  2                    2         2Seaters             1.0   \n",
       "3                  2                    2         2Seaters             1.0   \n",
       "4                  2                    2         2Seaters             1.0   \n",
       "\n",
       "   VarValveLift  \n",
       "0           0.0  \n",
       "1           0.0  \n",
       "2           0.0  \n",
       "3           0.0  \n",
       "4           0.0  "
      ]
     },
     "execution_count": 8,
     "metadata": {},
     "output_type": "execute_result"
    }
   ],
   "source": [
    "car2010 = pd.read_csv(datasets[1])\n",
    "car2011 = pd.read_csv(datasets[0])\n",
    "car2010.head()\n"
   ]
  },
  {
   "cell_type": "code",
   "execution_count": 9,
   "metadata": {},
   "outputs": [
    {
     "data": {
      "text/html": [
       "<div>\n",
       "<style>\n",
       "    .dataframe thead tr:only-child th {\n",
       "        text-align: right;\n",
       "    }\n",
       "\n",
       "    .dataframe thead th {\n",
       "        text-align: left;\n",
       "    }\n",
       "\n",
       "    .dataframe tbody tr th {\n",
       "        vertical-align: top;\n",
       "    }\n",
       "</style>\n",
       "<table border=\"1\" class=\"dataframe\">\n",
       "  <thead>\n",
       "    <tr style=\"text-align: right;\">\n",
       "      <th></th>\n",
       "      <th>Unnamed: 0</th>\n",
       "      <th>EngDispl</th>\n",
       "      <th>NumCyl</th>\n",
       "      <th>Transmission</th>\n",
       "      <th>FE</th>\n",
       "      <th>AirAspirationMethod</th>\n",
       "      <th>NumGears</th>\n",
       "      <th>TransLockup</th>\n",
       "      <th>TransCreeperGear</th>\n",
       "      <th>DriveDesc</th>\n",
       "      <th>IntakeValvePerCyl</th>\n",
       "      <th>ExhaustValvesPerCyl</th>\n",
       "      <th>CarlineClassDesc</th>\n",
       "      <th>VarValveTiming</th>\n",
       "      <th>VarValveLift</th>\n",
       "    </tr>\n",
       "  </thead>\n",
       "  <tbody>\n",
       "    <tr>\n",
       "      <th>0</th>\n",
       "      <td>1</td>\n",
       "      <td>5.9</td>\n",
       "      <td>12</td>\n",
       "      <td>M6</td>\n",
       "      <td>22.9258</td>\n",
       "      <td>NaturallyAspirated</td>\n",
       "      <td>6</td>\n",
       "      <td>0.0</td>\n",
       "      <td>0.0</td>\n",
       "      <td>TwoWheelDriveRear</td>\n",
       "      <td>2</td>\n",
       "      <td>2</td>\n",
       "      <td>2Seaters</td>\n",
       "      <td>0.0</td>\n",
       "      <td>0.0</td>\n",
       "    </tr>\n",
       "    <tr>\n",
       "      <th>1</th>\n",
       "      <td>8</td>\n",
       "      <td>4.2</td>\n",
       "      <td>8</td>\n",
       "      <td>AM6</td>\n",
       "      <td>26.7678</td>\n",
       "      <td>NaturallyAspirated</td>\n",
       "      <td>6</td>\n",
       "      <td>0.0</td>\n",
       "      <td>0.0</td>\n",
       "      <td>AllWheelDrive</td>\n",
       "      <td>2</td>\n",
       "      <td>2</td>\n",
       "      <td>2Seaters</td>\n",
       "      <td>1.0</td>\n",
       "      <td>0.0</td>\n",
       "    </tr>\n",
       "    <tr>\n",
       "      <th>2</th>\n",
       "      <td>9</td>\n",
       "      <td>4.2</td>\n",
       "      <td>8</td>\n",
       "      <td>M6</td>\n",
       "      <td>24.3010</td>\n",
       "      <td>NaturallyAspirated</td>\n",
       "      <td>6</td>\n",
       "      <td>0.0</td>\n",
       "      <td>0.0</td>\n",
       "      <td>AllWheelDrive</td>\n",
       "      <td>2</td>\n",
       "      <td>2</td>\n",
       "      <td>2Seaters</td>\n",
       "      <td>1.0</td>\n",
       "      <td>0.0</td>\n",
       "    </tr>\n",
       "    <tr>\n",
       "      <th>3</th>\n",
       "      <td>10</td>\n",
       "      <td>5.2</td>\n",
       "      <td>10</td>\n",
       "      <td>AM6</td>\n",
       "      <td>24.3325</td>\n",
       "      <td>NaturallyAspirated</td>\n",
       "      <td>6</td>\n",
       "      <td>0.0</td>\n",
       "      <td>0.0</td>\n",
       "      <td>AllWheelDrive</td>\n",
       "      <td>2</td>\n",
       "      <td>2</td>\n",
       "      <td>2Seaters</td>\n",
       "      <td>1.0</td>\n",
       "      <td>0.0</td>\n",
       "    </tr>\n",
       "    <tr>\n",
       "      <th>4</th>\n",
       "      <td>11</td>\n",
       "      <td>5.2</td>\n",
       "      <td>10</td>\n",
       "      <td>M6</td>\n",
       "      <td>23.0667</td>\n",
       "      <td>NaturallyAspirated</td>\n",
       "      <td>6</td>\n",
       "      <td>0.0</td>\n",
       "      <td>0.0</td>\n",
       "      <td>AllWheelDrive</td>\n",
       "      <td>2</td>\n",
       "      <td>2</td>\n",
       "      <td>2Seaters</td>\n",
       "      <td>1.0</td>\n",
       "      <td>0.0</td>\n",
       "    </tr>\n",
       "  </tbody>\n",
       "</table>\n",
       "</div>"
      ],
      "text/plain": [
       "   Unnamed: 0  EngDispl  NumCyl Transmission       FE AirAspirationMethod  \\\n",
       "0           1       5.9      12           M6  22.9258  NaturallyAspirated   \n",
       "1           8       4.2       8          AM6  26.7678  NaturallyAspirated   \n",
       "2           9       4.2       8           M6  24.3010  NaturallyAspirated   \n",
       "3          10       5.2      10          AM6  24.3325  NaturallyAspirated   \n",
       "4          11       5.2      10           M6  23.0667  NaturallyAspirated   \n",
       "\n",
       "   NumGears  TransLockup  TransCreeperGear          DriveDesc  \\\n",
       "0         6          0.0               0.0  TwoWheelDriveRear   \n",
       "1         6          0.0               0.0      AllWheelDrive   \n",
       "2         6          0.0               0.0      AllWheelDrive   \n",
       "3         6          0.0               0.0      AllWheelDrive   \n",
       "4         6          0.0               0.0      AllWheelDrive   \n",
       "\n",
       "   IntakeValvePerCyl  ExhaustValvesPerCyl CarlineClassDesc  VarValveTiming  \\\n",
       "0                  2                    2         2Seaters             0.0   \n",
       "1                  2                    2         2Seaters             1.0   \n",
       "2                  2                    2         2Seaters             1.0   \n",
       "3                  2                    2         2Seaters             1.0   \n",
       "4                  2                    2         2Seaters             1.0   \n",
       "\n",
       "   VarValveLift  \n",
       "0           0.0  \n",
       "1           0.0  \n",
       "2           0.0  \n",
       "3           0.0  \n",
       "4           0.0  "
      ]
     },
     "execution_count": 9,
     "metadata": {},
     "output_type": "execute_result"
    }
   ],
   "source": [
    "car2011.head()"
   ]
  },
  {
   "cell_type": "code",
   "execution_count": 21,
   "metadata": {},
   "outputs": [],
   "source": [
    "fuelEco_disp_2010 = car2010.iloc[:, [1, 4]]\n",
    "fuelEco_disp_2011 = car2011.iloc[:, [1, 4]]\n"
   ]
  },
  {
   "cell_type": "code",
   "execution_count": 30,
   "metadata": {},
   "outputs": [
    {
     "data": {
      "text/plain": [
       "EngDispl     1.0\n",
       "FE          17.5\n",
       "dtype: float64"
      ]
     },
     "execution_count": 30,
     "metadata": {},
     "output_type": "execute_result"
    }
   ],
   "source": [
    "fuelEco_disp_2010.min()\n"
   ]
  },
  {
   "cell_type": "code",
   "execution_count": 32,
   "metadata": {},
   "outputs": [
    {
     "data": {
      "text/plain": [
       "EngDispl     8.4000\n",
       "FE          69.6404\n",
       "dtype: float64"
      ]
     },
     "execution_count": 32,
     "metadata": {},
     "output_type": "execute_result"
    }
   ],
   "source": [
    "fuelEco_disp_2010.max()\n"
   ]
  },
  {
   "cell_type": "code",
   "execution_count": 50,
   "metadata": {},
   "outputs": [
    {
     "data": {
      "text/plain": [
       "Text(0,0.5,'Fuel Econompy')"
      ]
     },
     "execution_count": 50,
     "metadata": {},
     "output_type": "execute_result"
    },
    {
     "data": {
      "image/png": "[encoded data removed]",
      "text/plain": [
       "<matplotlib.figure.Figure at 0x7f923db2d0f0>"
      ]
     },
     "metadata": {},
     "output_type": "display_data"
    }
   ],
   "source": [
    "f, (ax1, ax2) = plt.subplots(1, 2, figsize=(20, 10))\n",
    "ax1.plot(car2010.iloc[:, 1], car2010.iloc[:, 4], 'ro')\n",
    "ax2.plot(car2011.iloc[:, 1], car2011.iloc[:, 4], 'ro')\n",
    "\n",
    "ax1.set_xlabel(\"Engine Displacemnt\")\n",
    "ax2.set_xlabel(\"Engine Displacemnt\")\n",
    "ax1.set_ylabel(\"Fuel Econompy\")\n",
    "ax2.set_ylabel(\"Fuel Econompy\")"
   ]
  },
  {
   "cell_type": "code",
   "execution_count": null,
   "metadata": {},
   "outputs": [],
   "source": []
  }
 ],
 "metadata": {
  "kernelspec": {
   "display_name": "Python (AI)",
   "language": "python",
   "name": "ai"
  },
  "language_info": {
   "codemirror_mode": {
    "name": "ipython",
    "version": 3
   },
   "file_extension": ".py",
   "mimetype": "text/x-python",
   "name": "python",
   "nbconvert_exporter": "python",
   "pygments_lexer": "ipython3",
   "version": "3.6.3"
  }
 },
 "nbformat": 4,
 "nbformat_minor": 2
}
